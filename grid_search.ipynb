{
 "cells": [
  {
   "cell_type": "code",
   "execution_count": 1,
   "metadata": {},
   "outputs": [],
   "source": [
    "#from sklearn import preprocessing\n",
    "import numpy as np     \n",
    "import pandas as pd   \n",
    "import xgboost as xgb\n",
    "from sklearn.model_selection import TimeSeriesSplit, GridSearchCV"
   ]
  },
  {
   "cell_type": "code",
   "execution_count": 2,
   "metadata": {},
   "outputs": [
    {
     "name": "stdout",
     "output_type": "stream",
     "text": [
      "C:\\Users\\JDL\n"
     ]
    }
   ],
   "source": [
    "cd "
   ]
  },
  {
   "cell_type": "code",
   "execution_count": 3,
   "metadata": {},
   "outputs": [
    {
     "name": "stdout",
     "output_type": "stream",
     "text": [
      "C:\\Users\\JDL\\Desktop\n"
     ]
    }
   ],
   "source": [
    "cd Desktop"
   ]
  },
  {
   "cell_type": "code",
   "execution_count": 4,
   "metadata": {},
   "outputs": [],
   "source": [
    "power= pd.read_csv('2019 태양광 발전 경진대회/Refined Data/please.csv', index_col=0)"
   ]
  },
  {
   "cell_type": "code",
   "execution_count": 5,
   "metadata": {},
   "outputs": [],
   "source": [
    "power.set_index(power['일시'], inplace=True)\n",
    "power['일시'] = pd.to_datetime(power['일시'], errors='coerce')\n",
    "power['시간'] = power['hour']\n",
    "power['월'] = power['month']\n",
    "power = power.drop(['일시', 'hour', 'month'], axis=1)"
   ]
  },
  {
   "cell_type": "code",
   "execution_count": 6,
   "metadata": {},
   "outputs": [],
   "source": [
    "split_date = '2019-04-01'\n",
    "\n",
    "power_train = power.loc[power.index < split_date]\n",
    "power_test = power.loc[power.index >= split_date]\n",
    "\n",
    "x_train_final = power_train[[ '일조(hr)', '일사(MJ/m2)', '지면온도(°C)', '시간']]\n",
    "x_test_final = power_test[['일조(hr)', '일사(MJ/m2)', '지면온도(°C)', '시간']]\n",
    "y_train = power_train['태양광 전력거래량\\n(단위: MWh)']\n",
    "y_test = power_test['태양광 전력거래량\\n(단위: MWh)']    "
   ]
  },
  {
   "cell_type": "code",
   "execution_count": 7,
   "metadata": {},
   "outputs": [],
   "source": [
    "n = np.arange(200, 1001, 25)"
   ]
  },
  {
   "cell_type": "code",
   "execution_count": 8,
   "metadata": {},
   "outputs": [
    {
     "name": "stdout",
     "output_type": "stream",
     "text": [
      "Fitting 5 folds for each of 33 candidates, totalling 165 fits\n"
     ]
    },
    {
     "name": "stderr",
     "output_type": "stream",
     "text": [
      "[Parallel(n_jobs=5)]: Using backend LokyBackend with 5 concurrent workers.\n",
      "[Parallel(n_jobs=5)]: Done  31 tasks      | elapsed:    8.3s\n",
      "[Parallel(n_jobs=5)]: Done 152 tasks      | elapsed:   19.7s\n",
      "[Parallel(n_jobs=5)]: Done 165 out of 165 | elapsed:   21.4s finished\n",
      "C:\\Users\\JDL\\Anaconda3\\envs\\venv\\lib\\site-packages\\xgboost\\core.py:587: FutureWarning: Series.base is deprecated and will be removed in a future version\n",
      "  if getattr(data, 'base', None) is not None and \\\n",
      "C:\\Users\\JDL\\Anaconda3\\envs\\venv\\lib\\site-packages\\xgboost\\core.py:588: FutureWarning: Series.base is deprecated and will be removed in a future version\n",
      "  data.base is not None and isinstance(data, np.ndarray) \\\n",
      "C:\\Users\\JDL\\Anaconda3\\envs\\venv\\lib\\site-packages\\sklearn\\utils\\deprecation.py:125: FutureWarning: You are accessing a training score ('split0_train_score'), which will not be available by default any more in 0.21. If you need training scores, please set return_train_score=True\n",
      "  warnings.warn(*warn_args, **warn_kwargs)\n",
      "C:\\Users\\JDL\\Anaconda3\\envs\\venv\\lib\\site-packages\\sklearn\\utils\\deprecation.py:125: FutureWarning: You are accessing a training score ('split1_train_score'), which will not be available by default any more in 0.21. If you need training scores, please set return_train_score=True\n",
      "  warnings.warn(*warn_args, **warn_kwargs)\n",
      "C:\\Users\\JDL\\Anaconda3\\envs\\venv\\lib\\site-packages\\sklearn\\utils\\deprecation.py:125: FutureWarning: You are accessing a training score ('split2_train_score'), which will not be available by default any more in 0.21. If you need training scores, please set return_train_score=True\n",
      "  warnings.warn(*warn_args, **warn_kwargs)\n",
      "C:\\Users\\JDL\\Anaconda3\\envs\\venv\\lib\\site-packages\\sklearn\\utils\\deprecation.py:125: FutureWarning: You are accessing a training score ('split3_train_score'), which will not be available by default any more in 0.21. If you need training scores, please set return_train_score=True\n",
      "  warnings.warn(*warn_args, **warn_kwargs)\n",
      "C:\\Users\\JDL\\Anaconda3\\envs\\venv\\lib\\site-packages\\sklearn\\utils\\deprecation.py:125: FutureWarning: You are accessing a training score ('split4_train_score'), which will not be available by default any more in 0.21. If you need training scores, please set return_train_score=True\n",
      "  warnings.warn(*warn_args, **warn_kwargs)\n",
      "C:\\Users\\JDL\\Anaconda3\\envs\\venv\\lib\\site-packages\\sklearn\\utils\\deprecation.py:125: FutureWarning: You are accessing a training score ('mean_train_score'), which will not be available by default any more in 0.21. If you need training scores, please set return_train_score=True\n",
      "  warnings.warn(*warn_args, **warn_kwargs)\n",
      "C:\\Users\\JDL\\Anaconda3\\envs\\venv\\lib\\site-packages\\sklearn\\utils\\deprecation.py:125: FutureWarning: You are accessing a training score ('std_train_score'), which will not be available by default any more in 0.21. If you need training scores, please set return_train_score=True\n",
      "  warnings.warn(*warn_args, **warn_kwargs)\n"
     ]
    }
   ],
   "source": [
    "cv = 5\n",
    "grid = {\n",
    "        'n_estimator': n\n",
    "        }\n",
    "\n",
    "model = xgb.XGBRegressor()\n",
    "gridsearch = GridSearchCV(model, grid, verbose=2 , n_jobs=5,\n",
    "         cv=TimeSeriesSplit(n_splits=cv).get_n_splits([x_train_final, y_train]))\n",
    "gridsearch.fit(x_train_final, y_train)\n",
    "\n",
    "df_gridsearch = pd.DataFrame(gridsearch.cv_results_)"
   ]
  },
  {
   "cell_type": "code",
   "execution_count": 10,
   "metadata": {},
   "outputs": [
    {
     "data": {
      "text/plain": [
       "{'n_estimator': 200}"
      ]
     },
     "execution_count": 10,
     "metadata": {},
     "output_type": "execute_result"
    }
   ],
   "source": [
    "gridsearch.best_params_"
   ]
  },
  {
   "cell_type": "code",
   "execution_count": 11,
   "metadata": {},
   "outputs": [
    {
     "name": "stdout",
     "output_type": "stream",
     "text": [
      "Fitting 5 folds for each of 540 candidates, totalling 2700 fits\n"
     ]
    },
    {
     "name": "stderr",
     "output_type": "stream",
     "text": [
      "[Parallel(n_jobs=5)]: Using backend LokyBackend with 5 concurrent workers.\n",
      "[Parallel(n_jobs=5)]: Done  31 tasks      | elapsed:    3.3s\n",
      "[Parallel(n_jobs=5)]: Done 152 tasks      | elapsed:   15.9s\n",
      "[Parallel(n_jobs=5)]: Done 355 tasks      | elapsed:   37.5s\n",
      "[Parallel(n_jobs=5)]: Done 638 tasks      | elapsed:  1.2min\n",
      "[Parallel(n_jobs=5)]: Done 1003 tasks      | elapsed:  2.4min\n",
      "[Parallel(n_jobs=5)]: Done 1448 tasks      | elapsed:  4.6min\n",
      "[Parallel(n_jobs=5)]: Done 1975 tasks      | elapsed:  6.4min\n",
      "[Parallel(n_jobs=5)]: Done 2582 tasks      | elapsed:  9.3min\n",
      "[Parallel(n_jobs=5)]: Done 2700 out of 2700 | elapsed:  9.9min finished\n"
     ]
    }
   ],
   "source": [
    "cv = 5\n",
    "grid = {\n",
    "        'max_depth': [3, 4, 5, 6, 7, 8, 9, 10, 11, 12],\n",
    "        'min_child_weight': [1, 2, 3, 4, 5, 6, 7, 8, 9],\n",
    "        'subsample': [0.5, 0.6, 0.7, 0.8, 0.9, 1]\n",
    "        }\n",
    "\n",
    "\n",
    "model = xgb.XGBRegressor(n_estimator=200)\n",
    "gridsearch = GridSearchCV(model, grid, verbose=2 , n_jobs=5,\n",
    "         cv=TimeSeriesSplit(n_splits=cv).get_n_splits([x_train_final, y_train]))\n",
    "gridsearch.fit(x_train_final, y_train)\n",
    "\n",
    "\n",
    "df_gridsearch = pd.DataFrame(gridsearch.cv_results_)\n",
    "df_gridsearch.to_csv('solar_grid.csv')"
   ]
  },
  {
   "cell_type": "code",
   "execution_count": 12,
   "metadata": {},
   "outputs": [
    {
     "data": {
      "text/plain": [
       "{'max_depth': 4, 'min_child_weight': 8, 'subsample': 0.7}"
      ]
     },
     "execution_count": 12,
     "metadata": {},
     "output_type": "execute_result"
    }
   ],
   "source": [
    "gridsearch.best_params_"
   ]
  }
 ],
 "metadata": {
  "kernelspec": {
   "display_name": "Python 3",
   "language": "python",
   "name": "python3"
  },
  "language_info": {
   "codemirror_mode": {
    "name": "ipython",
    "version": 3
   },
   "file_extension": ".py",
   "mimetype": "text/x-python",
   "name": "python",
   "nbconvert_exporter": "python",
   "pygments_lexer": "ipython3",
   "version": "3.6.6"
  }
 },
 "nbformat": 4,
 "nbformat_minor": 2
}
